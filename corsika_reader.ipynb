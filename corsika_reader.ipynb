{
 "cells": [
  {
   "cell_type": "code",
   "execution_count": 1,
   "metadata": {},
   "outputs": [
    {
     "name": "stdout",
     "output_type": "stream",
     "text": [
      "1.0 1.0 0.0\n",
      "500000.0 14.0 b'EVTH'\n"
     ]
    }
   ],
   "source": [
    "from corsikaio import CorsikaCherenkovFile\n",
    "import matplotlib.pyplot as plt\n",
    "import pandas as pd\n",
    "import numpy as np\n",
    "\n",
    "\n",
    "with CorsikaCherenkovFile('F://1.New//Corsika//p500TeVtest_1') as f:\n",
    "    print(f.run_header['run_number'], f.run_header['egs4_flag'], f.run_header['nkg_flag'])\n",
    "    #print(f.version)\n",
    "\n",
    "    for e in f:\n",
    "        print(e.header['total_energy'], e.header['particle_id'], e.header['event_header'])"
   ]
  },
  {
   "cell_type": "code",
   "execution_count": 2,
   "metadata": {},
   "outputs": [
    {
     "data": {
      "text/plain": [
       "array([[ 1.0000e+00,  1.6500e+02,  3.4541e+04,  5.7205e+04,  5.2653e+04],\n",
       "       [ 1.0000e+00,  1.6000e+01,  4.6380e+03,  2.1680e+03,  5.2573e+04],\n",
       "       [ 1.0000e+00,  6.0000e+00,  6.2823e+04,  4.2924e+04,  5.2944e+04],\n",
       "       ...,\n",
       "       [ 5.0000e+00,  2.1651e+04, -3.7000e+01, -1.5107e+04,  5.2575e+04],\n",
       "       [ 1.0000e+00,  0.0000e+00, -8.8130e+03, -1.7105e+04,  5.2662e+04],\n",
       "       [ 1.0000e+00,  1.0000e+00, -9.1020e+03, -1.3011e+04,  5.2646e+04]])"
      ]
     },
     "execution_count": 2,
     "metadata": {},
     "output_type": "execute_result"
    }
   ],
   "source": [
    "data = np.loadtxt(\"F:\\\\1.New\\\\Corsika\\\\part.txt\",delimiter=' ')\n",
    "data"
   ]
  },
  {
   "cell_type": "code",
   "execution_count": 3,
   "metadata": {},
   "outputs": [
    {
     "data": {
      "text/plain": [
       "(2315440, 5)"
      ]
     },
     "execution_count": 3,
     "metadata": {},
     "output_type": "execute_result"
    }
   ],
   "source": [
    "data.shape"
   ]
  },
  {
   "cell_type": "code",
   "execution_count": 4,
   "metadata": {},
   "outputs": [
    {
     "data": {
      "text/plain": [
       "(2315440,)"
      ]
     },
     "execution_count": 4,
     "metadata": {},
     "output_type": "execute_result"
    }
   ],
   "source": [
    "data[:,0].shape"
   ]
  },
  {
   "cell_type": "code",
   "execution_count": 31,
   "metadata": {
    "collapsed": true
   },
   "outputs": [
    {
     "ename": "SyntaxError",
     "evalue": "invalid syntax (<ipython-input-31-2a3187b262d4>, line 1)",
     "output_type": "error",
     "traceback": [
      "\u001b[1;36m  File \u001b[1;32m\"<ipython-input-31-2a3187b262d4>\"\u001b[1;36m, line \u001b[1;32m1\u001b[0m\n\u001b[1;33m    //    1   gamma           24   Omega           64   K* -\u001b[0m\n\u001b[1;37m     ^\u001b[0m\n\u001b[1;31mSyntaxError\u001b[0m\u001b[1;31m:\u001b[0m invalid syntax\n"
     ]
    }
   ],
   "source": [
    "//    1   gamma           24   Omega           64   K* -\n",
    "//    2   positron        25   anti neutron    65   anti K* 0\n",
    "//    3   electron        26   anti Lambda     66   electron neutrino\n",
    "//    4   neutrino        27   anti Sigma -    67   electron anti neutrino\n",
    "//    5   muon +          28   anti Sigma 0    68   muon neutrino\n",
    "//    6   muon -          29   anti Sigma +    69   muon anti neutrino\n",
    "//    7   pion 0          30   anti Xi 0       71   eta-> 2*gam        \n",
    "//    8   pion +          31   anti Xi +       72   eta-> 3*pi0\n",
    "//    9   pion -          32   anti Omega      73   eta-> pi+ + pi- + pi0\n",
    "//   10   Kaon 0 long     50   omega           74   eta-> pi+ + pi- + gam\n",
    "//   11   Kaon            51   rho 0           201   Deuteron  \n",
    "//   12   Kaon -          52   rho +           301   Tritium\n",
    "//   13   neutron         53   rho -           402   alpha\n",
    "//   14   proton          54   Delta ++       1206   Carbon\n",
    "//   15   anti proton     55   Delta +        1407   Nitrogen"
   ]
  },
  {
   "cell_type": "code",
   "execution_count": 5,
   "metadata": {},
   "outputs": [
    {
     "data": {
      "text/plain": [
       "(array([ 1.,  2.,  3.,  5.,  6.,  8.,  9., 10., 11., 12., 13., 14., 15.,\n",
       "        25.]),\n",
       " array([2043995,   95464,  164132,    3866,    3896,     189,     209,\n",
       "             13,       5,       4,    2583,     978,      53,      53],\n",
       "       dtype=int64))"
      ]
     },
     "execution_count": 5,
     "metadata": {},
     "output_type": "execute_result"
    }
   ],
   "source": [
    "# 2.044e+06 259596 7762 4087 2.31544e+06\n",
    "un, count = np.unique(data[:,0], return_counts=True)\n",
    "un, count"
   ]
  },
  {
   "cell_type": "code",
   "execution_count": null,
   "metadata": {},
   "outputs": [],
   "source": []
  },
  {
   "cell_type": "code",
   "execution_count": 2,
   "metadata": {},
   "outputs": [
    {
     "data": {
      "text/plain": [
       "array([[ 1.0000e+00,  1.6000e+01,  4.6380e+03,  2.1680e+03,  5.2573e+04],\n",
       "       [ 1.0000e+00,  1.0000e+01,  4.6330e+03, -6.3910e+03,  5.2576e+04],\n",
       "       [ 1.0000e+00,  2.6000e+01,  3.9468e+04, -2.6986e+04,  5.2780e+04],\n",
       "       ...,\n",
       "       [ 1.0000e+00,  5.0000e+00,  4.6306e+04, -7.5100e+03,  5.2905e+04],\n",
       "       [ 1.0000e+00,  2.9000e+01, -4.3639e+04, -3.8584e+04,  5.2691e+04],\n",
       "       [ 1.0000e+00,  2.0000e+00, -9.7860e+04, -4.4639e+04,  5.3650e+04]])"
      ]
     },
     "execution_count": 2,
     "metadata": {},
     "output_type": "execute_result"
    }
   ],
   "source": [
    "data = np.loadtxt(\"C:\\\\Users\\\\ASUS Zephyrus\\\\Desktop\\\\new_outp.txt\",delimiter=' ')\n",
    "data"
   ]
  },
  {
   "cell_type": "code",
   "execution_count": 3,
   "metadata": {},
   "outputs": [
    {
     "data": {
      "text/plain": [
       "(897117, 5)"
      ]
     },
     "execution_count": 3,
     "metadata": {},
     "output_type": "execute_result"
    }
   ],
   "source": [
    "data.shape"
   ]
  },
  {
   "cell_type": "code",
   "execution_count": 9,
   "metadata": {},
   "outputs": [
    {
     "data": {
      "text/plain": [
       "array([1.000e+00, 1.600e+01, 4.638e+03, 2.168e+03])"
      ]
     },
     "execution_count": 9,
     "metadata": {},
     "output_type": "execute_result"
    }
   ],
   "source": [
    "data[0] # id p x y"
   ]
  },
  {
   "cell_type": "code",
   "execution_count": 10,
   "metadata": {},
   "outputs": [
    {
     "data": {
      "text/plain": [
       "array([1., 1., 1., ..., 1., 1., 1.])"
      ]
     },
     "execution_count": 10,
     "metadata": {},
     "output_type": "execute_result"
    }
   ],
   "source": [
    "data[:,0]"
   ]
  },
  {
   "cell_type": "code",
   "execution_count": 7,
   "metadata": {},
   "outputs": [],
   "source": [
    "R = (data[:,2]*data[:,2]+data[:,3]*data[:,3])**0.5"
   ]
  },
  {
   "cell_type": "code",
   "execution_count": 8,
   "metadata": {},
   "outputs": [
    {
     "data": {
      "text/plain": [
       "(1101692.8889763246, 8500.0)"
      ]
     },
     "execution_count": 8,
     "metadata": {},
     "output_type": "execute_result"
    }
   ],
   "source": [
    "np.max(R), 72250000**0.5"
   ]
  },
  {
   "cell_type": "code",
   "execution_count": 9,
   "metadata": {},
   "outputs": [
    {
     "name": "stderr",
     "output_type": "stream",
     "text": [
      "C:\\Users\\ASUS Zephyrus\\anaconda3\\lib\\site-packages\\seaborn\\distributions.py:2619: FutureWarning: `distplot` is a deprecated function and will be removed in a future version. Please adapt your code to use either `displot` (a figure-level function with similar flexibility) or `histplot` (an axes-level function for histograms).\n",
      "  warnings.warn(msg, FutureWarning)\n"
     ]
    },
    {
     "data": {
      "image/png": "[encoded data removed]",
      "text/plain": [
       "<Figure size 432x288 with 1 Axes>"
      ]
     },
     "metadata": {
      "needs_background": "light"
     },
     "output_type": "display_data"
    }
   ],
   "source": [
    "import seaborn as sns\n",
    "sns.distplot(R,kde=False)\n",
    "#plt.plot((8500.0, 8500.0),(0, 100000))\n",
    "plt.plot((72250000**0.5, 72250000**0.5),(0, 100000))\n",
    "plt.xlim(0,100000)\n",
    "plt.yscale('log')"
   ]
  },
  {
   "cell_type": "code",
   "execution_count": 11,
   "metadata": {},
   "outputs": [
    {
     "data": {
      "text/plain": [
       "<matplotlib.legend.Legend at 0x24e00f86848>"
      ]
     },
     "execution_count": 11,
     "metadata": {},
     "output_type": "execute_result"
    },
    {
     "data": {
      "image/png": "[encoded data removed]",
      "text/plain": [
       "<Figure size 576x576 with 1 Axes>"
      ]
     },
     "metadata": {
      "needs_background": "light"
     },
     "output_type": "display_data"
    }
   ],
   "source": [
    "from matplotlib.patches import Circle\n",
    "plt.figure(figsize=(8,8))\n",
    "x_det = np.array([-7.5, -2.5, 2.5, 7.5, -7.5,-2.5,2.5,7.5,-7.5,-2.5,2.5,7.5,-7.5,-2.5,2.5,7.5])\n",
    "y_det = np.array([7.5, 7.5,7.5,7.5, 2.5, 2.5,2.5,2.5, -2.5, -2.5,-2.5,-2.5, -7.5, -7.5,-7.5,-7.5])\n",
    "\n",
    "plt.scatter(data[:,2]/100, data[:,3]/100, marker =\"+\", color='b', s=1, label = 'Восстановленное')\n",
    "plt.scatter(x_det, y_det, marker =\"s\", color = 'r')\n",
    "plt.legend()"
   ]
  },
  {
   "cell_type": "code",
   "execution_count": null,
   "metadata": {},
   "outputs": [],
   "source": []
  },
  {
   "cell_type": "code",
   "execution_count": 60,
   "metadata": {},
   "outputs": [
    {
     "name": "stderr",
     "output_type": "stream",
     "text": [
      "C:\\Users\\ASUS Zephyrus\\anaconda3\\lib\\site-packages\\seaborn\\distributions.py:2619: FutureWarning: `distplot` is a deprecated function and will be removed in a future version. Please adapt your code to use either `displot` (a figure-level function with similar flexibility) or `histplot` (an axes-level function for histograms).\n",
      "  warnings.warn(msg, FutureWarning)\n"
     ]
    },
    {
     "data": {
      "image/png": "[encoded data removed]",
      "text/plain": [
       "<Figure size 432x288 with 1 Axes>"
      ]
     },
     "metadata": {
      "needs_background": "light"
     },
     "output_type": "display_data"
    }
   ],
   "source": [
    "import seaborn as sns\n",
    "sns.distplot((data[:,2]*data[:,2]+data[:,3]*data[:,3]),kde=False)\n",
    "plt.plot((72250000, 72250000),(0, 100000))\n",
    "plt.yscale('log')\n",
    "plt.xscale('log')"
   ]
  },
  {
   "cell_type": "code",
   "execution_count": 4,
   "metadata": {},
   "outputs": [
    {
     "data": {
      "text/plain": [
       "array([[ 1.0000e+00,  1.0000e+01,  5.3200e+02, -1.0180e+03,  5.2575e+04],\n",
       "       [ 1.0000e+00,  1.6000e+01,  1.0450e+03,  1.9400e+02,  5.2572e+04],\n",
       "       [ 1.0000e+00,  4.0000e+00,  6.2000e+02,  6.5000e+02,  5.2572e+04],\n",
       "       ...,\n",
       "       [ 3.0000e+00,  5.4000e+01,  4.1000e+01,  7.3300e+02,  5.2579e+04],\n",
       "       [ 6.0000e+00,  3.6131e+04,  1.4110e+03, -4.0100e+02,  5.2572e+04],\n",
       "       [ 1.0000e+00,  8.0000e+00, -9.5700e+02,  1.0450e+03,  5.2641e+04]])"
      ]
     },
     "execution_count": 4,
     "metadata": {},
     "output_type": "execute_result"
    }
   ],
   "source": [
    "data1 = np.loadtxt(\"F:\\\\1.New\\\\Corsika\\\\test_out2.txt\",delimiter=' ')\n",
    "data1"
   ]
  },
  {
   "cell_type": "code",
   "execution_count": 23,
   "metadata": {},
   "outputs": [
    {
     "data": {
      "text/plain": [
       "array([ 1.0000e+00,  1.0000e+01,  5.3200e+02, -1.0180e+03,  5.2575e+04])"
      ]
     },
     "execution_count": 23,
     "metadata": {},
     "output_type": "execute_result"
    }
   ],
   "source": [
    "data1[0]"
   ]
  },
  {
   "cell_type": "code",
   "execution_count": 24,
   "metadata": {},
   "outputs": [],
   "source": [
    "R1 = (data1[:,2]*data1[:,2]+data1[:,3]*data1[:,3])**0.5"
   ]
  },
  {
   "cell_type": "code",
   "execution_count": 25,
   "metadata": {},
   "outputs": [
    {
     "data": {
      "text/plain": [
       "(1499.8753281523102, 8500.0)"
      ]
     },
     "execution_count": 25,
     "metadata": {},
     "output_type": "execute_result"
    }
   ],
   "source": [
    "np.max(R1), 72250000**0.5"
   ]
  },
  {
   "cell_type": "code",
   "execution_count": 28,
   "metadata": {},
   "outputs": [
    {
     "name": "stderr",
     "output_type": "stream",
     "text": [
      "C:\\Users\\ASUS Zephyrus\\anaconda3\\lib\\site-packages\\seaborn\\distributions.py:2619: FutureWarning: `distplot` is a deprecated function and will be removed in a future version. Please adapt your code to use either `displot` (a figure-level function with similar flexibility) or `histplot` (an axes-level function for histograms).\n",
      "  warnings.warn(msg, FutureWarning)\n"
     ]
    },
    {
     "data": {
      "image/png": "[encoded data removed]",
      "text/plain": [
       "<Figure size 432x288 with 1 Axes>"
      ]
     },
     "metadata": {
      "needs_background": "light"
     },
     "output_type": "display_data"
    }
   ],
   "source": [
    "import seaborn as sns\n",
    "sns.distplot(R1,kde=False)\n",
    "#plt.plot((8500.0, 8500.0),(0, 100000))\n",
    "plt.plot((1500, 1500),(0, 100000))\n",
    "plt.yscale('log')"
   ]
  },
  {
   "cell_type": "code",
   "execution_count": null,
   "metadata": {},
   "outputs": [],
   "source": []
  },
  {
   "cell_type": "code",
   "execution_count": 4,
   "metadata": {},
   "outputs": [
    {
     "data": {
      "text/plain": [
       "(631166, 5)"
      ]
     },
     "execution_count": 4,
     "metadata": {},
     "output_type": "execute_result"
    }
   ],
   "source": [
    "#data = np.loadtxt(\"F:\\\\1.New\\\\Corsika\\\\output_data.txt\",delimiter=' ')\n",
    "data = np.loadtxt(\"C:\\\\Users\\\\ASUS Zephyrus\\\\Desktop\\\\ENDA\\\\build_noqt\\\\test.txt\",delimiter=' ')\n",
    "data.shape\n",
    "data.shape"
   ]
  },
  {
   "cell_type": "code",
   "execution_count": 82,
   "metadata": {},
   "outputs": [
    {
     "data": {
      "text/plain": [
       "array([[ 1.0000e+00,  1.6000e+01,  4.6380e+03,  2.1680e+03,  5.2573e+04],\n",
       "       [ 1.0000e+00,  1.0000e+01,  4.6330e+03, -6.3910e+03,  5.2576e+04],\n",
       "       [ 1.0000e+00,  0.0000e+00,  8.1840e+03, -4.0700e+02,  5.2737e+04],\n",
       "       ...,\n",
       "       [ 1.0000e+00,  2.0000e+00,  2.3230e+03, -1.4950e+03,  5.2711e+04],\n",
       "       [ 1.0000e+00,  2.0000e+00, -5.1230e+03, -7.9300e+02,  5.2583e+04],\n",
       "       [ 1.0000e+00,  8.0000e+00, -6.2960e+03, -1.5520e+03,  5.2576e+04]])"
      ]
     },
     "execution_count": 82,
     "metadata": {},
     "output_type": "execute_result"
    }
   ],
   "source": [
    "data2 = np.loadtxt(\"F:\\\\1.New\\\\Corsika\\\\output_data.txt\",delimiter=' ')\n",
    "data2"
   ]
  },
  {
   "cell_type": "code",
   "execution_count": 65,
   "metadata": {},
   "outputs": [
    {
     "data": {
      "text/plain": [
       "array([ 4638.,  4633.,   532., ...,  2323., -5123., -6296.])"
      ]
     },
     "execution_count": 65,
     "metadata": {},
     "output_type": "execute_result"
    }
   ],
   "source": [
    "data[:,2]"
   ]
  },
  {
   "cell_type": "code",
   "execution_count": 5,
   "metadata": {},
   "outputs": [
    {
     "data": {
      "text/plain": [
       "<matplotlib.legend.Legend at 0x19b4b792348>"
      ]
     },
     "execution_count": 5,
     "metadata": {},
     "output_type": "execute_result"
    },
    {
     "data": {
      "image/png": "[encoded data removed]",
      "text/plain": [
       "<Figure size 576x576 with 1 Axes>"
      ]
     },
     "metadata": {
      "needs_background": "light"
     },
     "output_type": "display_data"
    }
   ],
   "source": [
    "from matplotlib.patches import Circle\n",
    "plt.figure(figsize=(8,8))\n",
    "x_det = np.array([-7.5, -2.5, 2.5, 7.5, -7.5,-2.5,2.5,7.5,-7.5,-2.5,2.5,7.5,-7.5,-2.5,2.5,7.5])\n",
    "y_det = np.array([7.5, 7.5,7.5,7.5, 2.5, 2.5,2.5,2.5, -2.5, -2.5,-2.5,-2.5, -7.5, -7.5,-7.5,-7.5])\n",
    "\n",
    "plt.scatter(data[:,2]/100, data[:,3]/100, marker =\"+\", color='b', s=1, label = 'Восстановленное')\n",
    "plt.scatter(x_det, y_det, marker =\"s\", color = 'r')\n",
    "plt.legend()\n"
   ]
  },
  {
   "cell_type": "code",
   "execution_count": 85,
   "metadata": {},
   "outputs": [
    {
     "data": {
      "text/plain": [
       "(0.001, 3528.993, 0.0, 3528.993)"
      ]
     },
     "execution_count": 85,
     "metadata": {},
     "output_type": "execute_result"
    }
   ],
   "source": [
    "MIN, MAX = np.min(data[:,1]/1000), np.max(data[:,1]/1000)\n",
    "MIN2, MAX2 = np.min(data2[:,1]/1000), np.max(data2[:,1]/1000)\n",
    "MIN, MAX, MIN2, MAX2"
   ]
  },
  {
   "cell_type": "code",
   "execution_count": 91,
   "metadata": {},
   "outputs": [
    {
     "data": {
      "text/plain": [
       "Text(0, 0.5, 'N')"
      ]
     },
     "execution_count": 91,
     "metadata": {},
     "output_type": "execute_result"
    },
    {
     "data": {
      "image/png": "[encoded data removed]",
      "text/plain": [
       "<Figure size 864x504 with 1 Axes>"
      ]
     },
     "metadata": {
      "needs_background": "light"
     },
     "output_type": "display_data"
    }
   ],
   "source": [
    "# E_0 = 500 TeV\n",
    "MIN, MAX = np.min(data[:,1]/1000), np.max(data[:,1]/1000)\n",
    "MIN2, MAX2 = np.min(data2[:,1]/1000), np.max(data2[:,1]/1000)\n",
    "\n",
    "plt.figure(figsize=(12,7))\n",
    "plt.hist(data[:,1]/1000, bins = 10 ** np.linspace(np.log10(MIN), np.log10(MAX), 30),label='Ekin 1')\n",
    "#plt.hist(data2[:,1]/1000, bins = 10 ** np.linspace(np.log10(MIN2), np.log10(MAX2), 30),label='Ekin 2')\n",
    "plt.gca().set_xscale(\"log\")\n",
    "plt.yscale('log')\n",
    "plt.xlabel(\"E, GeV\", fontsize=14)\n",
    "plt.ylabel(\"N\", fontsize=14)"
   ]
  },
  {
   "cell_type": "code",
   "execution_count": null,
   "metadata": {},
   "outputs": [],
   "source": []
  },
  {
   "cell_type": "code",
   "execution_count": null,
   "metadata": {},
   "outputs": [],
   "source": []
  },
  {
   "cell_type": "code",
   "execution_count": 15,
   "metadata": {},
   "outputs": [
    {
     "data": {
      "text/plain": [
       "array([[ 1.0000e+00,  1.6000e+01,  4.6380e+03,  2.1680e+03,  5.2573e+04],\n",
       "       [ 1.0000e+00,  1.0000e+01,  4.6330e+03, -6.3910e+03,  5.2576e+04],\n",
       "       [ 1.0000e+00,  1.0000e+01,  5.3200e+02, -1.0180e+03,  5.2575e+04],\n",
       "       ...,\n",
       "       [ 1.0000e+00,  2.0000e+00,  2.3230e+03, -1.4950e+03,  5.2711e+04],\n",
       "       [ 1.0000e+00,  2.0000e+00, -5.1230e+03, -7.9300e+02,  5.2583e+04],\n",
       "       [ 1.0000e+00,  8.0000e+00, -6.2960e+03, -1.5520e+03,  5.2576e+04]])"
      ]
     },
     "execution_count": 15,
     "metadata": {},
     "output_type": "execute_result"
    }
   ],
   "source": [
    "data = np.loadtxt(\"C:\\\\Users\\\\ASUS Zephyrus\\\\Desktop\\\\output_data.txt\",delimiter=' ')\n",
    "data"
   ]
  },
  {
   "cell_type": "code",
   "execution_count": 16,
   "metadata": {},
   "outputs": [
    {
     "name": "stderr",
     "output_type": "stream",
     "text": [
      "C:\\Users\\ASUS Zephyrus\\anaconda3\\lib\\site-packages\\seaborn\\distributions.py:2619: FutureWarning: `distplot` is a deprecated function and will be removed in a future version. Please adapt your code to use either `displot` (a figure-level function with similar flexibility) or `histplot` (an axes-level function for histograms).\n",
      "  warnings.warn(msg, FutureWarning)\n"
     ]
    },
    {
     "data": {
      "image/png": "[encoded data removed]",
      "text/plain": [
       "<Figure size 432x288 with 1 Axes>"
      ]
     },
     "metadata": {
      "needs_background": "light"
     },
     "output_type": "display_data"
    }
   ],
   "source": [
    "R1 = (data[:,2]*data[:,2]+data[:,3]*data[:,3])**0.5\n",
    "sns.distplot(R1,kde=False)\n",
    "#plt.plot((8500.0, 8500.0),(0, 100000))\n",
    "plt.plot((8500, 8500),(0, 100000))\n",
    "plt.yscale('log')"
   ]
  },
  {
   "cell_type": "code",
   "execution_count": 36,
   "metadata": {},
   "outputs": [
    {
     "data": {
      "text/plain": [
       "array([[ 1.0000e+00,  1.6000e+01,  4.6380e+03,  2.1680e+03,  5.2573e+04],\n",
       "       [ 1.0000e+00,  1.0000e+01,  4.6330e+03, -6.3910e+03,  5.2576e+04],\n",
       "       [ 1.0000e+00,  2.6000e+01,  3.9468e+04, -2.6986e+04,  5.2780e+04],\n",
       "       ...,\n",
       "       [ 1.0000e+00,  5.0000e+00,  4.6306e+04, -7.5100e+03,  5.2905e+04],\n",
       "       [ 1.0000e+00,  2.9000e+01, -4.3639e+04, -3.8584e+04,  5.2691e+04],\n",
       "       [ 1.0000e+00,  2.0000e+00, -9.7860e+04, -4.4639e+04,  5.3650e+04]])"
      ]
     },
     "execution_count": 36,
     "metadata": {},
     "output_type": "execute_result"
    }
   ],
   "source": [
    "data1 = np.loadtxt(\"C:\\\\Users\\\\ASUS Zephyrus\\\\Desktop\\\\output1.txt\",delimiter=' ')\n",
    "data1"
   ]
  },
  {
   "cell_type": "code",
   "execution_count": 37,
   "metadata": {
    "collapsed": true
   },
   "outputs": [
    {
     "name": "stderr",
     "output_type": "stream",
     "text": [
      "C:\\Users\\ASUS Zephyrus\\anaconda3\\lib\\site-packages\\seaborn\\distributions.py:2619: FutureWarning: `distplot` is a deprecated function and will be removed in a future version. Please adapt your code to use either `displot` (a figure-level function with similar flexibility) or `histplot` (an axes-level function for histograms).\n",
      "  warnings.warn(msg, FutureWarning)\n"
     ]
    },
    {
     "data": {
      "image/png": "[encoded data removed]",
      "text/plain": [
       "<Figure size 432x288 with 1 Axes>"
      ]
     },
     "metadata": {
      "needs_background": "light"
     },
     "output_type": "display_data"
    }
   ],
   "source": [
    "R1 = (data1[:,2]*data1[:,2]+data1[:,3]*data1[:,3])\n",
    "sns.distplot(R1,kde=False)\n",
    "#plt.plot((8500.0, 8500.0),(0, 100000))\n",
    "#plt.plot((72250000, 72250000),(0, 100000))\n",
    "plt.yscale('log')"
   ]
  },
  {
   "cell_type": "code",
   "execution_count": 35,
   "metadata": {},
   "outputs": [
    {
     "name": "stderr",
     "output_type": "stream",
     "text": [
      "C:\\Users\\ASUS Zephyrus\\anaconda3\\lib\\site-packages\\seaborn\\distributions.py:2619: FutureWarning: `distplot` is a deprecated function and will be removed in a future version. Please adapt your code to use either `displot` (a figure-level function with similar flexibility) or `histplot` (an axes-level function for histograms).\n",
      "  warnings.warn(msg, FutureWarning)\n"
     ]
    },
    {
     "data": {
      "image/png": "[encoded data removed]",
      "text/plain": [
       "<Figure size 432x288 with 1 Axes>"
      ]
     },
     "metadata": {
      "needs_background": "light"
     },
     "output_type": "display_data"
    }
   ],
   "source": [
    "R1 = (data1[:,2]/100*data1[:,2]/100+data1[:,3]/100*data1[:,3]/100)**0.5\n",
    "sns.distplot(R1,kde=False)\n",
    "#plt.plot((8500.0, 8500.0),(0, 100000))\n",
    "plt.plot((8500, 8500),(0, 100000))\n",
    "plt.yscale('log')"
   ]
  },
  {
   "cell_type": "code",
   "execution_count": 19,
   "metadata": {},
   "outputs": [
    {
     "name": "stderr",
     "output_type": "stream",
     "text": [
      "C:\\Users\\ASUS Zephyrus\\anaconda3\\lib\\site-packages\\seaborn\\distributions.py:2619: FutureWarning: `distplot` is a deprecated function and will be removed in a future version. Please adapt your code to use either `displot` (a figure-level function with similar flexibility) or `histplot` (an axes-level function for histograms).\n",
      "  warnings.warn(msg, FutureWarning)\n",
      "C:\\Users\\ASUS Zephyrus\\anaconda3\\lib\\site-packages\\seaborn\\distributions.py:2619: FutureWarning: `distplot` is a deprecated function and will be removed in a future version. Please adapt your code to use either `displot` (a figure-level function with similar flexibility) or `histplot` (an axes-level function for histograms).\n",
      "  warnings.warn(msg, FutureWarning)\n",
      "C:\\Users\\ASUS Zephyrus\\anaconda3\\lib\\site-packages\\seaborn\\distributions.py:2619: FutureWarning: `distplot` is a deprecated function and will be removed in a future version. Please adapt your code to use either `displot` (a figure-level function with similar flexibility) or `histplot` (an axes-level function for histograms).\n",
      "  warnings.warn(msg, FutureWarning)\n",
      "C:\\Users\\ASUS Zephyrus\\anaconda3\\lib\\site-packages\\seaborn\\distributions.py:2619: FutureWarning: `distplot` is a deprecated function and will be removed in a future version. Please adapt your code to use either `displot` (a figure-level function with similar flexibility) or `histplot` (an axes-level function for histograms).\n",
      "  warnings.warn(msg, FutureWarning)\n"
     ]
    },
    {
     "data": {
      "text/plain": [
       "Text(0, 0.5, '$N$')"
      ]
     },
     "execution_count": 19,
     "metadata": {},
     "output_type": "execute_result"
    },
    {
     "data": {
      "image/png": "[encoded data removed]",
      "text/plain": [
       "<Figure size 1440x360 with 2 Axes>"
      ]
     },
     "metadata": {
      "needs_background": "light"
     },
     "output_type": "display_data"
    }
   ],
   "source": [
    "plt.figure(figsize=(20, 5))\n",
    "\n",
    "plt.subplot(1, 2, 1)\n",
    "sns.distplot(data[:,2],kde=False, bins=30, label='new')\n",
    "sns.distplot(data1[:,2]/100, kde=False, bins=30, label='old')\n",
    "plt.yscale('log')\n",
    "plt.legend()\n",
    "plt.xlabel(\"X, m\")\n",
    "plt.ylabel(\"$N$\")\n",
    "\n",
    "plt.subplot(1, 2, 2)\n",
    "sns.distplot(data[:,3],kde=False, bins=30, label='new')\n",
    "sns.distplot(data1[:,3]/100,kde=False, bins=30, label='old')\n",
    "plt.yscale('log')\n",
    "plt.legend()\n",
    "plt.xlabel(\"Y, m\")\n",
    "plt.ylabel(\"$N$\")"
   ]
  },
  {
   "cell_type": "code",
   "execution_count": 22,
   "metadata": {},
   "outputs": [
    {
     "data": {
      "text/plain": [
       "<matplotlib.legend.Legend at 0x24e08d15bc8>"
      ]
     },
     "execution_count": 22,
     "metadata": {},
     "output_type": "execute_result"
    },
    {
     "data": {
      "image/png": "[encoded data removed]",
      "text/plain": [
       "<Figure size 576x576 with 1 Axes>"
      ]
     },
     "metadata": {
      "needs_background": "light"
     },
     "output_type": "display_data"
    }
   ],
   "source": [
    "from matplotlib.patches import Circle\n",
    "plt.figure(figsize=(8,8))\n",
    "x_det = np.array([-7.5, -2.5, 2.5, 7.5, -7.5,-2.5,2.5,7.5,-7.5,-2.5,2.5,7.5,-7.5,-2.5,2.5,7.5])\n",
    "y_det = np.array([7.5, 7.5,7.5,7.5, 2.5, 2.5,2.5,2.5, -2.5, -2.5,-2.5,-2.5, -7.5, -7.5,-7.5,-7.5])\n",
    "\n",
    "plt.scatter(data[:,2]/100, data[:,3]/100, marker =\"+\", color='b', s=1, label = 'Восстановленное')\n",
    "plt.scatter(x_det, y_det, marker =\"s\", color = 'r')\n",
    "plt.legend()"
   ]
  },
  {
   "cell_type": "code",
   "execution_count": 34,
   "metadata": {},
   "outputs": [
    {
     "data": {
      "text/plain": [
       "array([1.0000e+00, 1.6000e+01, 4.6380e+03, 2.1680e+03, 5.2573e+04])"
      ]
     },
     "execution_count": 34,
     "metadata": {},
     "output_type": "execute_result"
    }
   ],
   "source": [
    "data1[0]"
   ]
  },
  {
   "cell_type": "code",
   "execution_count": 30,
   "metadata": {},
   "outputs": [
    {
     "data": {
      "text/plain": [
       "<matplotlib.legend.Legend at 0x24e0b848f48>"
      ]
     },
     "execution_count": 30,
     "metadata": {},
     "output_type": "execute_result"
    },
    {
     "data": {
      "image/png": "[encoded data removed]",
      "text/plain": [
       "<Figure size 576x576 with 1 Axes>"
      ]
     },
     "metadata": {
      "needs_background": "light"
     },
     "output_type": "display_data"
    }
   ],
   "source": [
    "from matplotlib.patches import Circle\n",
    "plt.figure(figsize=(8,8))\n",
    "x_det = np.array([-7.5, -2.5, 2.5, 7.5, -7.5,-2.5,2.5,7.5,-7.5,-2.5,2.5,7.5,-7.5,-2.5,2.5,7.5])\n",
    "y_det = np.array([7.5, 7.5,7.5,7.5, 2.5, 2.5,2.5,2.5, -2.5, -2.5,-2.5,-2.5, -7.5, -7.5,-7.5,-7.5])\n",
    "\n",
    "#plt.scatter(data1[:,2]/10000, data1[:,3]/10000, marker =\"+\", color='b', s=1, label = 'Восстановленное')\n",
    "plt.scatter(data1[:,2]/100, data1[:,3]/100, marker =\"+\", color='b', s=1, label = 'Восстановленное')\n",
    "plt.scatter(x_det, y_det, marker =\"s\", color = 'r')\n",
    "plt.legend()"
   ]
  },
  {
   "cell_type": "code",
   "execution_count": 24,
   "metadata": {},
   "outputs": [
    {
     "data": {
      "text/plain": [
       "(108.8414, 84.4356)"
      ]
     },
     "execution_count": 24,
     "metadata": {},
     "output_type": "execute_result"
    }
   ],
   "source": [
    "np.max(data1[:,2]/10000), np.max(data1[:,3]/10000)"
   ]
  },
  {
   "cell_type": "code",
   "execution_count": null,
   "metadata": {},
   "outputs": [],
   "source": []
  }
 ],
 "metadata": {
  "kernelspec": {
   "display_name": "Python 3",
   "language": "python",
   "name": "python3"
  },
  "language_info": {
   "codemirror_mode": {
    "name": "ipython",
    "version": 3
   },
   "file_extension": ".py",
   "mimetype": "text/x-python",
   "name": "python",
   "nbconvert_exporter": "python",
   "pygments_lexer": "ipython3",
   "version": "3.7.6"
  }
 },
 "nbformat": 4,
 "nbformat_minor": 4
}
